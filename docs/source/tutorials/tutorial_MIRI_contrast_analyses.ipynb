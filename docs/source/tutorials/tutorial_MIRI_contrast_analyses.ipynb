{
 "cells": [
  {
   "cell_type": "markdown",
   "id": "e0dab164",
   "metadata": {},
   "source": [
    "# Tutorial for MIRI post-pipeline contrast analyses \n",
    "\n",
    "In this notebook we will analyze the MIRI coronagraphy data on HIP 65426 b \n",
    "from the JWST ERS program on Direct Observations of Exoplanetary Systems, program 1386. \n",
    "\n",
    "\n",
    "<div class=\"alert alert-warning\">\n",
    "<b>Prerequisite:</b> This notebook assumes you have already ran the \"Tutorial for MIRI data reductions\" notebook. The output files  must be present from that reduction to be analyzed in this notebook.\n",
    "\n",
    "</div>"
   ]
  },
  {
   "cell_type": "markdown",
   "id": "7805e7a0",
   "metadata": {},
   "source": [
    "## Setup and imports"
   ]
  },
  {
   "cell_type": "code",
   "execution_count": 1,
   "id": "c05898da",
   "metadata": {},
   "outputs": [
    {
     "name": "stderr",
     "output_type": "stream",
     "text": [
      "**WARNING**: LOCAL JWST PRD VERSION PRDOPSSOC-059 CANNOT BE CHECKED AGAINST ONLINE VERSION\n"
     ]
    },
    {
     "name": "stdout",
     "output_type": "stream",
     "text": [
      "[   webbpsf:INFO] NIRCam aperture name updated to NRCA1_FULL\n"
     ]
    },
    {
     "name": "stderr",
     "output_type": "stream",
     "text": [
      "2023-08-03 15:52:20,860 - stpipe - INFO - NIRCam aperture name updated to NRCA1_FULL\n"
     ]
    },
    {
     "name": "stdout",
     "output_type": "stream",
     "text": [
      "[    stpipe:INFO] NIRCam aperture name updated to NRCA1_FULL\n",
      "[   webbpsf:INFO] NIRISS SIAF aperture name updated to NIS_CEN\n"
     ]
    },
    {
     "name": "stderr",
     "output_type": "stream",
     "text": [
      "2023-08-03 15:52:20,878 - stpipe - INFO - NIRISS SIAF aperture name updated to NIS_CEN\n"
     ]
    },
    {
     "name": "stdout",
     "output_type": "stream",
     "text": [
      "[    stpipe:INFO] NIRISS SIAF aperture name updated to NIS_CEN\n",
      "[   webbpsf:INFO] MIRI SIAF aperture name updated to MIRIM_FULL\n"
     ]
    },
    {
     "name": "stderr",
     "output_type": "stream",
     "text": [
      "2023-08-03 15:52:20,968 - stpipe - INFO - MIRI SIAF aperture name updated to MIRIM_FULL\n"
     ]
    },
    {
     "name": "stdout",
     "output_type": "stream",
     "text": [
      "[    stpipe:INFO] MIRI SIAF aperture name updated to MIRIM_FULL\n"
     ]
    }
   ],
   "source": [
    "import os\n",
    "import pdb\n",
    "import sys\n",
    "import glob\n",
    "\n",
    "import numpy as np\n",
    "import astropy.io.fits as fits\n",
    "\n",
    "import matplotlib.pyplot as plt\n",
    "import matplotlib\n",
    "matplotlib.rcParams.update({'font.size': 14})\n",
    "\n",
    "import spaceKLIP"
   ]
  },
  {
   "cell_type": "markdown",
   "id": "809b02ab",
   "metadata": {},
   "source": [
    "Note that currently the import of `webbpsf_ext` has a side effect of configuring extra verbose logging. We're not interested in that logging text, so let's quiet it. "
   ]
  },
  {
   "cell_type": "code",
   "execution_count": 2,
   "id": "2af0d94a",
   "metadata": {},
   "outputs": [],
   "source": [
    "import webbpsf_ext\n",
    "webbpsf_ext.setup_logging('WARN', verbose=False)"
   ]
  },
  {
   "cell_type": "code",
   "execution_count": 3,
   "id": "ebe69055",
   "metadata": {},
   "outputs": [],
   "source": [
    "data_root = 'data_miri_hd65426'"
   ]
  },
  {
   "cell_type": "markdown",
   "id": "dc32bde4",
   "metadata": {},
   "source": [
    "## Re-read level 3 outputs into database \n",
    "Read in output files produced in the NIRCam coronagraph data reduction notebook. "
   ]
  },
  {
   "cell_type": "code",
   "execution_count": 4,
   "id": "005a5693",
   "metadata": {},
   "outputs": [
    {
     "name": "stdout",
     "output_type": "stream",
     "text": [
      "[spaceKLIP.database:INFO] --> Identified 2 concatenation(s)\n",
      "[spaceKLIP.database:INFO]   --> Concatenation 1: JWST_MIRI_MIRIMAGE_F1140C_NONE_4QPM_1140_MASK1140\n",
      " TYPE  EXP_TYPE DATAMODL TELESCOP  TARGPROP INSTRUME DETECTOR FILTER      CWAVEL          DWAVEL      PUPIL  CORONMSK NINTS EFFINTTM SUBARRAY  PIXSCALE    MODE  ANNULI SUBSECTS            KLMODES             BUNIT  BLURFWHM\n",
      "------ -------- -------- -------- --------- -------- -------- ------ --------------- ---------------- ----- --------- ----- -------- -------- ---------- ------- ------ -------- ------------------------------ ------ --------\n",
      "PYKLIP MIR_4QPM   STAGE3     JWST HIP-65426     MIRI MIRIMAGE F1140C 11.315651557554 0.60365321991656  NONE 4QPM_1140    80 24.20768 MASK1140 110.917025 ADI+RDI      1        1 1,2,3,4,5,6,7,8,9,10,20,50,100 MJy/sr      nan\n",
      "PYKLIP MIR_4QPM   STAGE3     JWST HIP-65426     MIRI MIRIMAGE F1140C 11.315651557554 0.60365321991656  NONE 4QPM_1140    80 24.20768 MASK1140 110.917025     ADI      1        1 1,2,3,4,5,6,7,8,9,10,20,50,100 MJy/sr      nan\n",
      "PYKLIP MIR_4QPM   STAGE3     JWST HIP-65426     MIRI MIRIMAGE F1140C 11.315651557554 0.60365321991656  NONE 4QPM_1140    80 24.20768 MASK1140 110.917025     RDI      1        1 1,2,3,4,5,6,7,8,9,10,20,50,100 MJy/sr      nan\n",
      "[spaceKLIP.database:INFO]   --> Concatenation 2: JWST_MIRI_MIRIMAGE_F1550C_NONE_4QPM_1550_MASK1550\n",
      " TYPE  EXP_TYPE DATAMODL TELESCOP  TARGPROP INSTRUME DETECTOR FILTER      CWAVEL          DWAVEL      PUPIL  CORONMSK NINTS EFFINTTM SUBARRAY  PIXSCALE    MODE  ANNULI SUBSECTS            KLMODES             BUNIT  BLURFWHM\n",
      "------ -------- -------- -------- --------- -------- -------- ------ --------------- ---------------- ----- --------- ----- -------- -------- ---------- ------- ------ -------- ------------------------------ ------ --------\n",
      "PYKLIP MIR_4QPM   STAGE3     JWST HIP-65426     MIRI MIRIMAGE F1550C 15.521965212798 0.70380136629677  NONE 4QPM_1550   118    59.92 MASK1550 110.917025 ADI+RDI      1        1 1,2,3,4,5,6,7,8,9,10,20,50,100 MJy/sr      nan\n",
      "PYKLIP MIR_4QPM   STAGE3     JWST HIP-65426     MIRI MIRIMAGE F1550C 15.521965212798 0.70380136629677  NONE 4QPM_1550   118    59.92 MASK1550 110.917025     ADI      1        1 1,2,3,4,5,6,7,8,9,10,20,50,100 MJy/sr      nan\n",
      "PYKLIP MIR_4QPM   STAGE3     JWST HIP-65426     MIRI MIRIMAGE F1550C 15.521965212798 0.70380136629677  NONE 4QPM_1550   118    59.92 MASK1550 110.917025     RDI      1        1 1,2,3,4,5,6,7,8,9,10,20,50,100 MJy/sr      nan\n"
     ]
    }
   ],
   "source": [
    "input_dir = os.path.join(data_root, 'klipsub')\n",
    "    \n",
    "fitsfiles = sorted(glob.glob(os.path.join(input_dir, \"*KLmodes-all.fits\")))\n",
    "\n",
    "database = spaceKLIP.database.Database(output_dir=data_root)\n",
    "database.read_jwst_s3_data(fitsfiles)"
   ]
  },
  {
   "cell_type": "markdown",
   "id": "406f3baf",
   "metadata": {},
   "source": [
    "## Contrast Calculations\n",
    "\n",
    "Here we use the analysistools module to measure contrast\n",
    "\n",
    "### Preparation: Stellar Photometry Model\n",
    "\n",
    "This requires an input giving the host star photometry, formatted as a  [Vizier](https://http://vizier.cds.unistra.fr) VOTable, or a simple text file with columns giving wavelenth in microns and flux in Jy.  The latter could be produced, for instance, from fitting a scaled version of a stellar atmosphere model to available photometry. \n",
    "\n",
    "We provide here examples of both kinds of file, provided by Aarynn Carter. _Only one is needed; we provide both purely as examples._"
   ]
  },
  {
   "cell_type": "code",
   "execution_count": 42,
   "id": "bb12fcba",
   "metadata": {},
   "outputs": [],
   "source": [
    "star_photometry_vot = 'HIP65426.vot'\n",
    "star_photometry_txt = 'HIP65426A_sdf_phoenix_m+modbb_disk_r.txt'"
   ]
  },
  {
   "cell_type": "code",
   "execution_count": 44,
   "id": "f28d9e6c",
   "metadata": {},
   "outputs": [],
   "source": [
    "import astropy\n",
    "\n",
    "# Read in VOT version\n",
    "vot_version = astropy.table.Table.read(star_photometry_vot)\n",
    "\n",
    "# convert from freq to wl, just for plotting below.\n",
    "vot_version['wavelength'] = (astropy.constants.c /  vot_version['sed_freq']).to(astropy.units.micron)\n",
    "\n",
    "# Read in TXT version\n",
    "txt_version = astropy.table.Table.read(star_photometry_txt,\n",
    "                                       format='ascii',\n",
    "                                       names=['wavelength', 'flux'])\n",
    "txt_version.columns['wavelength'].unit = astropy.units.micron\n",
    "txt_version.columns['flux'].unit = astropy.units.Jansky"
   ]
  },
  {
   "cell_type": "code",
   "execution_count": 45,
   "id": "3cd2f836",
   "metadata": {},
   "outputs": [
    {
     "data": {
      "text/plain": [
       "<matplotlib.legend.Legend at 0x130906650>"
      ]
     },
     "execution_count": 45,
     "metadata": {},
     "output_type": "execute_result"
    },
    {
     "data": {
      "image/png": "[encoded data removed]",
      "text/plain": [
       "<Figure size 800x600 with 1 Axes>"
      ]
     },
     "metadata": {},
     "output_type": "display_data"
    }
   ],
   "source": [
    "# plot, to show the two models are consistent\n",
    "\n",
    "plt.semilogx(txt_version['wavelength'], txt_version['flux'], label='HIP65426A_sdf_phoenix_m+modbb_disk_r.txt',)\n",
    "plt.scatter(vot_version['wavelength'], vot_version['sed_flux'], label='HIP65426.vot', color='C1')\n",
    "\n",
    "plt.xlabel(\"Wavelength [micron]\")\n",
    "plt.ylabel(\"Flux [Jansky]\")\n",
    "plt.legend(fontsize=9)\n"
   ]
  },
  {
   "cell_type": "code",
   "execution_count": 46,
   "id": "d57f3a48",
   "metadata": {},
   "outputs": [],
   "source": [
    "# Initialize the spaceKLIP contrast estimation class.\n",
    "analysistools = spaceKLIP.analysistools.AnalysisTools(database)\n"
   ]
  },
  {
   "cell_type": "code",
   "execution_count": 47,
   "id": "56c46ea7",
   "metadata": {},
   "outputs": [
    {
     "name": "stdout",
     "output_type": "stream",
     "text": [
      "[spaceKLIP.analysistools:INFO] --> Concatenation JWST_MIRI_MIRIMAGE_F1140C_NONE_4QPM_1140_MASK1140\n",
      "[spaceKLIP.psf:INFO]   --> Generating WebbPSF model\n"
     ]
    },
    {
     "ename": "NotImplementedError",
     "evalue": "",
     "output_type": "error",
     "traceback": [
      "\u001b[0;31m---------------------------------------------------------------------------\u001b[0m",
      "\u001b[0;31mNotImplementedError\u001b[0m                       Traceback (most recent call last)",
      "Cell \u001b[0;32mIn[47], line 2\u001b[0m\n\u001b[1;32m      1\u001b[0m \u001b[38;5;66;03m# Compute raw contrast.\u001b[39;00m\n\u001b[0;32m----> 2\u001b[0m \u001b[43manalysistools\u001b[49m\u001b[38;5;241;43m.\u001b[39;49m\u001b[43mraw_contrast\u001b[49m\u001b[43m(\u001b[49m\u001b[43mstar_photometry_txt\u001b[49m\u001b[43m)\u001b[49m\n",
      "File \u001b[0;32m~/Dropbox (Personal)/Documents/software/git/spaceKLIP/spaceKLIP/analysistools.py:203\u001b[0m, in \u001b[0;36mAnalysisTools.raw_contrast\u001b[0;34m(self, starfile, spectral_type, companions, overwrite_crpix, subdir)\u001b[0m\n\u001b[1;32m    201\u001b[0m             data[:, temp] \u001b[38;5;241m=\u001b[39m np\u001b[38;5;241m.\u001b[39mnan\n\u001b[1;32m    202\u001b[0m \u001b[38;5;28;01melif\u001b[39;00m \u001b[38;5;28mself\u001b[39m\u001b[38;5;241m.\u001b[39mdatabase\u001b[38;5;241m.\u001b[39mred[key][\u001b[38;5;124m'\u001b[39m\u001b[38;5;124mEXP_TYPE\u001b[39m\u001b[38;5;124m'\u001b[39m][j] \u001b[38;5;129;01min\u001b[39;00m [\u001b[38;5;124m'\u001b[39m\u001b[38;5;124mMIR_4QPM\u001b[39m\u001b[38;5;124m'\u001b[39m, \u001b[38;5;124m'\u001b[39m\u001b[38;5;124mMIR_LYOT\u001b[39m\u001b[38;5;124m'\u001b[39m]:\n\u001b[0;32m--> 203\u001b[0m     \u001b[38;5;28;01mraise\u001b[39;00m \u001b[38;5;167;01mNotImplementedError\u001b[39;00m()\n\u001b[1;32m    205\u001b[0m \u001b[38;5;66;03m# Mask companions.\u001b[39;00m\n\u001b[1;32m    206\u001b[0m \u001b[38;5;28;01mif\u001b[39;00m companions \u001b[38;5;129;01mis\u001b[39;00m \u001b[38;5;129;01mnot\u001b[39;00m \u001b[38;5;28;01mNone\u001b[39;00m:\n",
      "\u001b[0;31mNotImplementedError\u001b[0m: "
     ]
    }
   ],
   "source": [
    "# Compute raw contrast.\n",
    "analysistools.raw_contrast(star_photometry_txt)\n"
   ]
  },
  {
   "cell_type": "markdown",
   "id": "6791fcec",
   "metadata": {},
   "source": [
    "## Extract measurements of the companion HD 65426 b\n",
    "\n",
    "\n",
    "We need to know where the companion is. Using [whereistheplanet.com](https://whereistheplanet.com) for 2022 Aug 15:\n",
    "```\n",
    "RA Offset = 419.183 +/- 7.853 mas \n",
    "Dec Offset = -697.621 +/- 6.277 mas \n",
    "Separation = 813.875 +/- 6.388 mas \n",
    "PA = 149.014 +/- 0.547 deg \n",
    "Reference: Bowler et al. 2019\n",
    "```\n",
    "We also need to have a model for the stellar photometry for this step. We reuse the same file as above. \n",
    "\n",
    "This step also requires an uncertainty for the stellar photometry, parameterized `mstar_err`. This can be either a simple scalar estimate, like 0.05, or a dictionary giving uncertainty per JWST filter. "
   ]
  },
  {
   "cell_type": "code",
   "execution_count": 6,
   "id": "40f4533b",
   "metadata": {},
   "outputs": [],
   "source": [
    "dra = 0.41918\n",
    "ddec = -0.6976\n",
    "contrast = 1e-4\n",
    "\n",
    "comp_estimate = (dra, ddec, contrast)"
   ]
  },
  {
   "cell_type": "code",
   "execution_count": 52,
   "id": "50e58a04",
   "metadata": {},
   "outputs": [],
   "source": [
    "mstar_err = {'F250M': 0.054,\n",
    "             'F300M': 0.046,\n",
    "             'F356M': 0.048,\n",
    "             'F410M': 0.051,\n",
    "             'F444W': 0.054,\n",
    "             'F1140C': 0.038,\n",
    "             'F1550C': 0.072}"
   ]
  },
  {
   "cell_type": "code",
   "execution_count": 53,
   "id": "792621e7",
   "metadata": {},
   "outputs": [
    {
     "name": "stdout",
     "output_type": "stream",
     "text": [
      "[spaceKLIP.analysistools:INFO] --> Concatenation JWST_MIRI_MIRIMAGE_F1140C_NONE_4QPM_1140_MASK1140\n"
     ]
    },
    {
     "ename": "AttributeError",
     "evalue": "'MIRI_ext' object has no attribute '_update_coron_detector'",
     "output_type": "error",
     "traceback": [
      "\u001b[0;31m---------------------------------------------------------------------------\u001b[0m",
      "\u001b[0;31mAttributeError\u001b[0m                            Traceback (most recent call last)",
      "Cell \u001b[0;32mIn[53], line 1\u001b[0m\n\u001b[0;32m----> 1\u001b[0m \u001b[43manalysistools\u001b[49m\u001b[38;5;241;43m.\u001b[39;49m\u001b[43mextract_companions\u001b[49m\u001b[43m(\u001b[49m\u001b[43mcompanions\u001b[49m\u001b[38;5;241;43m=\u001b[39;49m\u001b[43mcomp_estimate\u001b[49m\u001b[43m,\u001b[49m\n\u001b[1;32m      2\u001b[0m \u001b[43m                                 \u001b[49m\u001b[43mstarfile\u001b[49m\u001b[38;5;241;43m=\u001b[39;49m\u001b[43mstar_photometry_txt\u001b[49m\u001b[43m,\u001b[49m\n\u001b[1;32m      3\u001b[0m \u001b[43m                                 \u001b[49m\u001b[43mmstar_err\u001b[49m\u001b[43m \u001b[49m\u001b[38;5;241;43m=\u001b[39;49m\u001b[43m \u001b[49m\u001b[43mmstar_err\u001b[49m\u001b[43m)\u001b[49m\n",
      "File \u001b[0;32m~/Dropbox (Personal)/Documents/software/git/spaceKLIP/spaceKLIP/analysistools.py:471\u001b[0m, in \u001b[0;36mAnalysisTools.extract_companions\u001b[0;34m(self, companions, starfile, mstar_err, spectral_type, klmode, date, use_fm_psf, highpass, fitmethod, fitkernel, subtract, inject, overwrite, subdir)\u001b[0m\n\u001b[1;32m    469\u001b[0m     \u001b[38;5;28;01mif\u001b[39;00m date \u001b[38;5;241m==\u001b[39m \u001b[38;5;124m'\u001b[39m\u001b[38;5;124mauto\u001b[39m\u001b[38;5;124m'\u001b[39m:\n\u001b[1;32m    470\u001b[0m         date \u001b[38;5;241m=\u001b[39m pyfits\u001b[38;5;241m.\u001b[39mgetheader(\u001b[38;5;28mself\u001b[39m\u001b[38;5;241m.\u001b[39mdatabase\u001b[38;5;241m.\u001b[39mobs[key][\u001b[38;5;124m'\u001b[39m\u001b[38;5;124mFITSFILE\u001b[39m\u001b[38;5;124m'\u001b[39m][ww_sci[\u001b[38;5;241m0\u001b[39m]], \u001b[38;5;241m0\u001b[39m)[\u001b[38;5;124m'\u001b[39m\u001b[38;5;124mDATE-BEG\u001b[39m\u001b[38;5;124m'\u001b[39m]\n\u001b[0;32m--> 471\u001b[0m offsetpsf_func \u001b[38;5;241m=\u001b[39m \u001b[43mJWST_PSF\u001b[49m\u001b[43m(\u001b[49m\u001b[43minst\u001b[49m\u001b[43m,\u001b[49m\n\u001b[1;32m    472\u001b[0m \u001b[43m                          \u001b[49m\u001b[43mfilt\u001b[49m\u001b[43m,\u001b[49m\n\u001b[1;32m    473\u001b[0m \u001b[43m                          \u001b[49m\u001b[43mimage_mask\u001b[49m\u001b[43m,\u001b[49m\n\u001b[1;32m    474\u001b[0m \u001b[43m                          \u001b[49m\u001b[43mfov_pix\u001b[49m\u001b[38;5;241;43m=\u001b[39;49m\u001b[38;5;241;43m65\u001b[39;49m\u001b[43m,\u001b[49m\n\u001b[1;32m    475\u001b[0m \u001b[43m                          \u001b[49m\u001b[43msp\u001b[49m\u001b[38;5;241;43m=\u001b[39;49m\u001b[43msed\u001b[49m\u001b[43m,\u001b[49m\n\u001b[1;32m    476\u001b[0m \u001b[43m                          \u001b[49m\u001b[43muse_coeff\u001b[49m\u001b[38;5;241;43m=\u001b[39;49m\u001b[38;5;28;43;01mFalse\u001b[39;49;00m\u001b[43m,\u001b[49m\n\u001b[1;32m    477\u001b[0m \u001b[43m                          \u001b[49m\u001b[43mdate\u001b[49m\u001b[38;5;241;43m=\u001b[39;49m\u001b[43mdate\u001b[49m\u001b[43m)\u001b[49m\n\u001b[1;32m    479\u001b[0m \u001b[38;5;66;03m# Loop through companions.\u001b[39;00m\n\u001b[1;32m    480\u001b[0m tab \u001b[38;5;241m=\u001b[39m Table(names\u001b[38;5;241m=\u001b[39m(\u001b[38;5;124m'\u001b[39m\u001b[38;5;124mID\u001b[39m\u001b[38;5;124m'\u001b[39m,\n\u001b[1;32m    481\u001b[0m                    \u001b[38;5;124m'\u001b[39m\u001b[38;5;124mRA\u001b[39m\u001b[38;5;124m'\u001b[39m,\n\u001b[1;32m    482\u001b[0m                    \u001b[38;5;124m'\u001b[39m\u001b[38;5;124mRA_ERR\u001b[39m\u001b[38;5;124m'\u001b[39m,\n\u001b[0;32m   (...)\u001b[0m\n\u001b[1;32m    526\u001b[0m                    \u001b[38;5;124m'\u001b[39m\u001b[38;5;124mfloat\u001b[39m\u001b[38;5;124m'\u001b[39m,\n\u001b[1;32m    527\u001b[0m                    \u001b[38;5;124m'\u001b[39m\u001b[38;5;124mobject\u001b[39m\u001b[38;5;124m'\u001b[39m))\n",
      "File \u001b[0;32m~/Dropbox (Personal)/Documents/software/git/spaceKLIP/spaceKLIP/psf.py:112\u001b[0m, in \u001b[0;36mJWST_PSF.__init__\u001b[0;34m(self, inst, filt, image_mask, fov_pix, oversample, sp, use_coeff, date, **kwargs)\u001b[0m\n\u001b[1;32m    109\u001b[0m \u001b[38;5;28;01melse\u001b[39;00m:\n\u001b[1;32m    110\u001b[0m     pupil_mask \u001b[38;5;241m=\u001b[39m \u001b[38;5;124m'\u001b[39m\u001b[38;5;124mMASKFQPM\u001b[39m\u001b[38;5;124m'\u001b[39m \u001b[38;5;28;01mif\u001b[39;00m \u001b[38;5;124m'\u001b[39m\u001b[38;5;124mFQPM\u001b[39m\u001b[38;5;124m'\u001b[39m \u001b[38;5;129;01min\u001b[39;00m image_mask \u001b[38;5;28;01melse\u001b[39;00m \u001b[38;5;124m'\u001b[39m\u001b[38;5;124mMASKLYOT\u001b[39m\u001b[38;5;124m'\u001b[39m\n\u001b[0;32m--> 112\u001b[0m inst_on \u001b[38;5;241m=\u001b[39m \u001b[38;5;28;43mself\u001b[39;49m\u001b[38;5;241;43m.\u001b[39;49m\u001b[43minst_ext\u001b[49m\u001b[43m(\u001b[49m\u001b[38;5;28;43mfilter\u001b[39;49m\u001b[38;5;241;43m=\u001b[39;49m\u001b[43mfilt\u001b[49m\u001b[43m,\u001b[49m\u001b[43m \u001b[49m\u001b[43mimage_mask\u001b[49m\u001b[38;5;241;43m=\u001b[39;49m\u001b[43mimage_mask\u001b[49m\u001b[43m,\u001b[49m\u001b[43m \u001b[49m\u001b[43mpupil_mask\u001b[49m\u001b[38;5;241;43m=\u001b[39;49m\u001b[43mpupil_mask\u001b[49m\u001b[43m,\u001b[49m\n\u001b[1;32m    113\u001b[0m \u001b[43m                         \u001b[49m\u001b[43mfov_pix\u001b[49m\u001b[38;5;241;43m=\u001b[39;49m\u001b[43mfov_pix\u001b[49m\u001b[43m,\u001b[49m\u001b[43m \u001b[49m\u001b[43moversample\u001b[49m\u001b[38;5;241;43m=\u001b[39;49m\u001b[43moversample\u001b[49m\u001b[43m,\u001b[49m\u001b[43m \u001b[49m\u001b[38;5;241;43m*\u001b[39;49m\u001b[38;5;241;43m*\u001b[39;49m\u001b[43mkwargs\u001b[49m\u001b[43m)\u001b[49m\n\u001b[1;32m    115\u001b[0m inst_off \u001b[38;5;241m=\u001b[39m \u001b[38;5;28mself\u001b[39m\u001b[38;5;241m.\u001b[39minst_ext(\u001b[38;5;28mfilter\u001b[39m\u001b[38;5;241m=\u001b[39mfilt, image_mask\u001b[38;5;241m=\u001b[39m\u001b[38;5;28;01mNone\u001b[39;00m, pupil_mask\u001b[38;5;241m=\u001b[39mpupil_mask,\n\u001b[1;32m    116\u001b[0m                           fov_pix\u001b[38;5;241m=\u001b[39mfov_pix, oversample\u001b[38;5;241m=\u001b[39moversample, \u001b[38;5;241m*\u001b[39m\u001b[38;5;241m*\u001b[39mkwargs)\n\u001b[1;32m    118\u001b[0m \u001b[38;5;66;03m# Load date-specific OPD files?\u001b[39;00m\n",
      "File \u001b[0;32m~/Dropbox (Personal)/Documents/software/git/webbpsf_ext/webbpsf_ext/webbpsf_ext_core.py:978\u001b[0m, in \u001b[0;36mMIRI_ext.__init__\u001b[0;34m(self, filter, pupil_mask, image_mask, fov_pix, oversample, **kwargs)\u001b[0m\n\u001b[1;32m    942\u001b[0m \u001b[38;5;250m\u001b[39m\u001b[38;5;124;03m\"\"\" Initialize MIRI instrument\u001b[39;00m\n\u001b[1;32m    943\u001b[0m \u001b[38;5;124;03m\u001b[39;00m\n\u001b[1;32m    944\u001b[0m \u001b[38;5;124;03mParameters\u001b[39;00m\n\u001b[0;32m   (...)\u001b[0m\n\u001b[1;32m    974\u001b[0m \u001b[38;5;124;03m    size will be considered to have 0 residual difference\u001b[39;00m\n\u001b[1;32m    975\u001b[0m \u001b[38;5;124;03m\"\"\"\u001b[39;00m\n\u001b[1;32m    977\u001b[0m webbpsf_MIRI\u001b[38;5;241m.\u001b[39m\u001b[38;5;21m__init__\u001b[39m(\u001b[38;5;28mself\u001b[39m)\n\u001b[0;32m--> 978\u001b[0m \u001b[43m_init_inst\u001b[49m\u001b[43m(\u001b[49m\u001b[38;5;28;43mself\u001b[39;49m\u001b[43m,\u001b[49m\u001b[43m \u001b[49m\u001b[38;5;28;43mfilter\u001b[39;49m\u001b[38;5;241;43m=\u001b[39;49m\u001b[38;5;28;43mfilter\u001b[39;49m\u001b[43m,\u001b[49m\u001b[43m \u001b[49m\u001b[43mpupil_mask\u001b[49m\u001b[38;5;241;43m=\u001b[39;49m\u001b[43mpupil_mask\u001b[49m\u001b[43m,\u001b[49m\u001b[43m \u001b[49m\u001b[43mimage_mask\u001b[49m\u001b[38;5;241;43m=\u001b[39;49m\u001b[43mimage_mask\u001b[49m\u001b[43m,\u001b[49m\n\u001b[1;32m    979\u001b[0m \u001b[43m           \u001b[49m\u001b[43mfov_pix\u001b[49m\u001b[38;5;241;43m=\u001b[39;49m\u001b[43mfov_pix\u001b[49m\u001b[43m,\u001b[49m\u001b[43m \u001b[49m\u001b[43moversample\u001b[49m\u001b[38;5;241;43m=\u001b[39;49m\u001b[43moversample\u001b[49m\u001b[43m,\u001b[49m\u001b[43m \u001b[49m\u001b[38;5;241;43m*\u001b[39;49m\u001b[38;5;241;43m*\u001b[39;49m\u001b[43mkwargs\u001b[49m\u001b[43m)\u001b[49m\n\u001b[1;32m    981\u001b[0m \u001b[38;5;66;03m# No jitter for coronagraphy by default\u001b[39;00m\n\u001b[1;32m    982\u001b[0m \u001b[38;5;66;03m# Otherwise assume 5 mas / axis\u001b[39;00m\n\u001b[1;32m    983\u001b[0m \u001b[38;5;28mself\u001b[39m\u001b[38;5;241m.\u001b[39moptions[\u001b[38;5;124m'\u001b[39m\u001b[38;5;124mjitter\u001b[39m\u001b[38;5;124m'\u001b[39m] \u001b[38;5;241m=\u001b[39m \u001b[38;5;28;01mNone\u001b[39;00m \u001b[38;5;28;01mif\u001b[39;00m \u001b[38;5;28mself\u001b[39m\u001b[38;5;241m.\u001b[39mis_coron \u001b[38;5;28;01melse\u001b[39;00m \u001b[38;5;124m'\u001b[39m\u001b[38;5;124mgaussian\u001b[39m\u001b[38;5;124m'\u001b[39m\n",
      "File \u001b[0;32m~/Dropbox (Personal)/Documents/software/git/webbpsf_ext/webbpsf_ext/webbpsf_ext_core.py:1657\u001b[0m, in \u001b[0;36m_init_inst\u001b[0;34m(self, filter, pupil_mask, image_mask, fov_pix, oversample, **kwargs)\u001b[0m\n\u001b[1;32m   1654\u001b[0m     \u001b[38;5;28mself\u001b[39m\u001b[38;5;241m.\u001b[39mfilter \u001b[38;5;241m=\u001b[39m \u001b[38;5;28mfilter\u001b[39m\n\u001b[1;32m   1656\u001b[0m \u001b[38;5;66;03m# For NIRCam, update detector depending mask and filter\u001b[39;00m\n\u001b[0;32m-> 1657\u001b[0m \u001b[38;5;28;43mself\u001b[39;49m\u001b[38;5;241;43m.\u001b[39;49m\u001b[43m_update_coron_detector\u001b[49m()\n\u001b[1;32m   1659\u001b[0m \u001b[38;5;66;03m# Don't include SI WFE error for MIRI coronagraphy\u001b[39;00m\n\u001b[1;32m   1660\u001b[0m \u001b[38;5;28;01mif\u001b[39;00m \u001b[38;5;28mself\u001b[39m\u001b[38;5;241m.\u001b[39mname\u001b[38;5;241m==\u001b[39m\u001b[38;5;124m'\u001b[39m\u001b[38;5;124mMIRI\u001b[39m\u001b[38;5;124m'\u001b[39m:\n",
      "\u001b[0;31mAttributeError\u001b[0m: 'MIRI_ext' object has no attribute '_update_coron_detector'"
     ]
    }
   ],
   "source": [
    "analysistools.extract_companions(companions=comp_estimate,\n",
    "                                 starfile=star_photometry_txt,\n",
    "                                 mstar_err = mstar_err)"
   ]
  },
  {
   "cell_type": "code",
   "execution_count": 8,
   "id": "c8a04f9b",
   "metadata": {},
   "outputs": [],
   "source": [
    "!mv /Users/mperrin/Downloads/HIP65426.vot ."
   ]
  },
  {
   "cell_type": "code",
   "execution_count": null,
   "id": "95eb002a",
   "metadata": {},
   "outputs": [],
   "source": []
  }
 ],
 "metadata": {
  "kernelspec": {
   "display_name": "Python 3 (ipykernel)",
   "language": "python",
   "name": "python3"
  },
  "language_info": {
   "codemirror_mode": {
    "name": "ipython",
    "version": 3
   },
   "file_extension": ".py",
   "mimetype": "text/x-python",
   "name": "python",
   "nbconvert_exporter": "python",
   "pygments_lexer": "ipython3",
   "version": "3.11.4"
  }
 },
 "nbformat": 4,
 "nbformat_minor": 5
}
